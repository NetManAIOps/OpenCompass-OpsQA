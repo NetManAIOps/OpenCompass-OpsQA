{
 "cells": [
  {
   "cell_type": "code",
   "execution_count": 12,
   "metadata": {},
   "outputs": [],
   "source": [
    "import json, re, os, sys\n",
    "from os import path as osp"
   ]
  },
  {
   "cell_type": "code",
   "execution_count": 9,
   "metadata": {},
   "outputs": [],
   "source": [
    "loc = \"../outputs/comparison/20230824_170033/predictions\"\n",
    "\n",
    "models = ['baichuan-13b-chat', 'GPT-3.5-turbo']\n",
    "for model in models:\n",
    "    zh = []\n",
    "    en = []\n",
    "    file_list = os.listdir(os.path.join(loc, model))\n",
    "    for file in file_list:\n",
    "        if '.json' not in file:\n",
    "            continue\n",
    "        with open(os.path.join(loc, model, file), 'r') as f:\n",
    "            data = json.load(f)\n",
    "        data = data.values()\n",
    "        if 'sc-zh' in file:\n",
    "            zh += data\n",
    "        else:\n",
    "            en += data\n",
    "    zh = {idx: value for idx, value in enumerate(zh)}\n",
    "    en = {idx: value for idx, value in enumerate(en)}\n",
    "    with open(os.path.join(loc, model, \"zh.json\"), 'w') as f:\n",
    "        json.dump(zh, f, indent=4)\n",
    "    with open(os.path.join(loc, model, \"en.json\"), 'w') as f:\n",
    "        json.dump(en, f, indent=4)\n"
   ]
  },
  {
   "cell_type": "code",
   "execution_count": 11,
   "metadata": {},
   "outputs": [
    {
     "name": "stdout",
     "output_type": "stream",
     "text": [
      "baichuan-13b-chat\n",
      "GPT-3.5-turbo\n",
      "xverse_13b\n",
      "chinese-alpaca-2-13b\n",
      "chinese-llama-2-13b\n",
      "llama-2-13b-chat\n",
      "internlm_chat_7b\n",
      "baichuan-7b\n",
      "qwen_chat_7b\n",
      "chatglm2-6b\n"
     ]
    }
   ],
   "source": [
    "from tools.extract_failcases import extract_fail_cases\n",
    "extract_fail_cases(\"/mnt/mfs/opsgpt/opencompass/outputs/comparison/20230824_170033\")"
   ]
  },
  {
   "cell_type": "code",
   "execution_count": 25,
   "metadata": {},
   "outputs": [],
   "source": [
    "from tools.extract_failcases import extract_answer\n",
    "def analyze(folder):\n",
    "    results = {}\n",
    "    for model in os.listdir(osp.join(folder, 'predictions')):\n",
    "        model_answer = {}\n",
    "\n",
    "        for filename in os.listdir(osp.join(folder, 'predictions', model)):\n",
    "            if not osp.isfile(osp.join(folder, 'predictions', model,\n",
    "                                       filename)):\n",
    "                continue\n",
    "            with open(os.path.join(folder, 'predictions', model, filename),\n",
    "                      'r',\n",
    "                      encoding='utf-8') as f:\n",
    "                data = json.load(f)\n",
    "            for idx, case in data.items():\n",
    "                predict = extract_answer(case['prediction'])\n",
    "                gold = case['reference']['answer']\n",
    "                qid = case['reference']['id']\n",
    "                if qid not in model_answer:\n",
    "                    model_answer[qid] = {\n",
    "                        'gold': gold, 'en' if 'sc-en' in filename else 'zh': predict}\n",
    "                else:\n",
    "                    model_answer[qid]['en' if 'sc-en' in filename else 'zh'] = predict\n",
    "        results[model] = model_answer\n",
    "    return results\n",
    "\n",
    "\n",
    "results = analyze(\n",
    "    \"/mnt/mfs/opsgpt/opencompass/outputs/comparison/20230824_170033\")\n"
   ]
  },
  {
   "cell_type": "code",
   "execution_count": 34,
   "metadata": {},
   "outputs": [
    {
     "name": "stdout",
     "output_type": "stream",
     "text": [
      "model,same,diff,same_right,diff_en_right,diff_zh_right\n",
      "baichuan-13b-chat,63%,36%,66%,35%,28%\n",
      "GPT-3.5-turbo,76%,23%,81%,61%,20%\n",
      "xverse_13b,29%,70%,82%,50%,3%\n",
      "chinese-alpaca-2-13b,65%,34%,64%,46%,24%\n",
      "chinese-llama-2-13b,58%,41%,60%,43%,25%\n",
      "llama-2-13b-chat,62%,37%,63%,55%,20%\n",
      "internlm_chat_7b,67%,32%,65%,42%,29%\n",
      "baichuan-7b,31%,68%,9%,36%,1%\n",
      "qwen_chat_7b,68%,31%,67%,48%,25%\n",
      "chatglm2-6b,62%,37%,54%,36%,30%\n"
     ]
    }
   ],
   "source": [
    "def analyze_portion(results):\n",
    "    print('model,same,diff,same_right,diff_en_right,diff_zh_right')\n",
    "    for model, result in results.items():\n",
    "        tot = len(result)\n",
    "        # 答案一致和不一致的题目\n",
    "\n",
    "        qsame = [q for q in result.values() if q['zh'] == q['en']]\n",
    "        qdiff = [q for q in result.values() if q['zh'] != q['en']]\n",
    "\n",
    "        # 计算中英文一致的比例\n",
    "        same = len(qsame)\n",
    "        diff = tot - same\n",
    "        # print(same * 100 / tot, diff * 100 / tot)\n",
    "        # 计算答案一致时的准确率\n",
    "        ac_same = sum([1 if q['zh'] == q['gold'] else 0 for q in qsame])\n",
    "        # 答案不一致时各自的准确率\n",
    "        ac_en = sum([1 if q['en'] == q['gold'] else 0 for q in qdiff])\n",
    "        ac_zh = sum([1 if q['zh'] == q['gold'] else 0 for q in qdiff])\n",
    "\n",
    "        print(\n",
    "            f'{model},{int(same*100/tot)}%,{int(diff*100/tot)}%,{int(ac_same*100/same)}%,{int(ac_en*100/diff)}%,{int(ac_zh*100/diff)}%')\n",
    "    return qsame, qdiff\n",
    "\n",
    "\n",
    "qsame, qdiff = analyze_portion(results)\n"
   ]
  },
  {
   "cell_type": "code",
   "execution_count": 39,
   "metadata": {},
   "outputs": [],
   "source": [
    "# 得到中文对英文错的列表和中文错英文对的列表\n",
    "\n",
    "common_zhr = set()\n",
    "common_enr = set()\n",
    "\n",
    "for model, result in results.items():\n",
    "    zhr = set([key for key, value in result.items() if value['zh'] == value['gold'] and value['en'] != value['gold']])\n",
    "    enr = set([key for key, value in result.items() if value['zh'] != value['gold'] and value['en'] == value['gold']])\n",
    "    if not len(common_zhr):\n",
    "        common_zhr = zhr\n",
    "        common_enr = enr\n",
    "    else:\n",
    "        common_enr = common_enr & enr\n",
    "        common_zhr = common_zhr & zhr\n",
    "    "
   ]
  },
  {
   "cell_type": "code",
   "execution_count": 40,
   "metadata": {},
   "outputs": [
    {
     "data": {
      "text/plain": [
       "{'9780137370337-A0025',\n",
       " '9780137370337-A0031',\n",
       " '9780137370337-A0082',\n",
       " '9780137370337-A0111',\n",
       " '9781119513124-A0158',\n",
       " '9781119642220-A0084',\n",
       " '9781119787631-A0152',\n",
       " '9781119810865-A0125',\n",
       " '9781119862918-A0105',\n",
       " '9781394182930-A0517',\n",
       " '9781394182930-A0836',\n",
       " '9781839211898-A0016'}"
      ]
     },
     "execution_count": 40,
     "metadata": {},
     "output_type": "execute_result"
    }
   ],
   "source": [
    "common_enr"
   ]
  },
  {
   "cell_type": "code",
   "execution_count": 41,
   "metadata": {},
   "outputs": [
    {
     "data": {
      "text/plain": [
       "{'9781394182909-A0187'}"
      ]
     },
     "execution_count": 41,
     "metadata": {},
     "output_type": "execute_result"
    }
   ],
   "source": [
    "common_zhr"
   ]
  },
  {
   "cell_type": "code",
   "execution_count": 71,
   "metadata": {},
   "outputs": [],
   "source": [
    "def find_ids(id_list):\n",
    "    loc = \"/mnt/mfs/opsgpt/opencompass/outputs/comparison/20230824_170033/predictions\"\n",
    "    result = {i:dict() for i in id_list}\n",
    "    for model in os.listdir(\"/mnt/mfs/opsgpt/opencompass/outputs/comparison/20230824_170033/predictions\"):\n",
    "        for file in os.listdir(osp.join(loc, model)):\n",
    "            if '.json' not in file:\n",
    "                continue\n",
    "            with open(os.path.join(loc, model, file)) as f:\n",
    "                data = json.load(f)\n",
    "            for a in data.values():\n",
    "                if a['reference']['id'] in id_list:\n",
    "                    result[a['reference']['id']]['zh-prompt' if 'sc-zh' in file else 'en-prompt'] = a['origin_prompt']\n",
    "                    result[a['reference']['id']][\n",
    "                                                 ('zh-' if 'sc-zh' in file else 'en-')+model] = a['prediction']\n",
    "                    result[a['reference']['id']]['answer'] = a['reference']['answer']\n",
    "    return result\n",
    "\n",
    "test = find_ids(list(common_zhr))\n",
    "\n"
   ]
  },
  {
   "cell_type": "code",
   "execution_count": 72,
   "metadata": {},
   "outputs": [],
   "source": [
    "with open(\"zh_right.json\", 'w') as f:\n",
    "    json.dump(test, f, sort_keys=True, indent=4)"
   ]
  },
  {
   "cell_type": "code",
   "execution_count": 74,
   "metadata": {},
   "outputs": [],
   "source": [
    "test = find_ids(list(common_enr))\n",
    "with open(\"en_right.json\", 'w') as f:\n",
    "    json.dump(test, f, sort_keys=True, indent=4)\n"
   ]
  },
  {
   "cell_type": "code",
   "execution_count": null,
   "metadata": {},
   "outputs": [],
   "source": [
    "with open(\"en_right.json\", 'r') as f:\n",
    "    data = json.load(f)\n",
    "    for key, value in data.items():\n",
    "        data[key] = dict(answer=value['answer'], en_prompt=value['en-prompt'], zh_prompt=value['zh-prompt'])\n",
    "    print(json.dumps(data, indent=4))\n",
    "    with open(\"en_right_simp.json\", 'w') as f:\n",
    "        json.dump(data, f, indent=4)\n"
   ]
  },
  {
   "cell_type": "code",
   "execution_count": null,
   "metadata": {},
   "outputs": [],
   "source": []
  }
 ],
 "metadata": {
  "kernelspec": {
   "display_name": "opencompass",
   "language": "python",
   "name": "python3"
  },
  "language_info": {
   "codemirror_mode": {
    "name": "ipython",
    "version": 3
   },
   "file_extension": ".py",
   "mimetype": "text/x-python",
   "name": "python",
   "nbconvert_exporter": "python",
   "pygments_lexer": "ipython3",
   "version": "3.10.12"
  },
  "orig_nbformat": 4
 },
 "nbformat": 4,
 "nbformat_minor": 2
}
