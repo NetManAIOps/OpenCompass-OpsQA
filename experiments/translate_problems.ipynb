{
 "cells": [
  {
   "cell_type": "code",
   "execution_count": 1,
   "metadata": {},
   "outputs": [],
   "source": [
    "import json, re, os, sys\n",
    "import pandas as pd\n",
    "from os import path as osp\n",
    "import openai\n",
    "from tqdm import tqdm\n",
    "from configs.openai_key import peiqi_key"
   ]
  },
  {
   "cell_type": "code",
   "execution_count": 2,
   "metadata": {},
   "outputs": [],
   "source": [
    "openai.api_base = \"https://api.chatanywhere.cn/v1\"\n",
    "openai.api_key = peiqi_key"
   ]
  },
  {
   "cell_type": "code",
   "execution_count": 3,
   "metadata": {},
   "outputs": [],
   "source": [
    "# 得到小规模样本的id并保存\n",
    "from tools.extract_sample_ids import get_sampled_ids\n",
    "sample_ids = get_sampled_ids('baichuan-oreilly-sample',\n",
    "                                 'baichuan-13b-chat')\n",
    "with open(\"/mnt/mfs/opsgpt/evaluation/ops-cert-eval/subset_ids.json\", 'w') as f:\n",
    "    json.dump(list(sample_ids), f, indent=4)"
   ]
  },
  {
   "cell_type": "code",
   "execution_count": 4,
   "metadata": {},
   "outputs": [],
   "source": [
    "# 获得题目\n",
    "with open(\"/mnt/mfs/opsgpt/evaluation/ops-cert-eval/v2/all.json\") as f:\n",
    "    data = json.load(f)\n",
    "sample_data = [\n",
    "    q for q in data if q['id'] in sample_ids\n",
    "]"
   ]
  },
  {
   "cell_type": "code",
   "execution_count": 27,
   "metadata": {},
   "outputs": [
    {
     "data": {
      "text/plain": [
       "{'id': '9781119862642-A0003',\n",
       " 'type': 0,\n",
       " 'question': 'You are purchasing a mobile device that allows you to use multi-finger gestures to interact with the device. What type of touchscreen technology does this device most likely use?',\n",
       " 'choices': ['Capacitive', 'Infrared', 'SAW', 'Resistive'],\n",
       " 'answer': 'A',\n",
       " 'solution': \"Capacitive touchscreens are a little less accurate than resistive touchscreens but more responsive. They respond to changes in electrical current, and as such, the human fingertip works great as the facilitator of input. Resistive screens require a heavier touch and don't support multi-touch input. Infrared screens don't work with multi-touch gestures, but like resistive screens, they can be used with gloves on. Surface Acoustic Wave (SAW) is another type of touchscreen, but it is not popular\",\n",
       " 'topic': ['Mobile Devices'],\n",
       " 'source': '9781119862642/c01.xhtml'}"
      ]
     },
     "execution_count": 27,
     "metadata": {},
     "output_type": "execute_result"
    }
   ],
   "source": [
    "sample_data[0]"
   ]
  },
  {
   "cell_type": "code",
   "execution_count": 14,
   "metadata": {},
   "outputs": [],
   "source": [
    "model_list = [\n",
    "    \"text-curie-001\",\n",
    "    \"text-babbage-001\",\n",
    "    \"text-ada-001\",\n",
    "    \"davinci\"\n",
    "]"
   ]
  },
  {
   "cell_type": "code",
   "execution_count": 5,
   "metadata": {},
   "outputs": [],
   "source": [
    "_hint = \"\"\"\n",
    "你是一个英译汉的翻译机器人。你需要将用户发来的选择题翻译成中文，你的回答只能有三行，第一行是题面的翻译，第二行是选项的翻译，第三行是类别的翻译，其他不要给出任何多余信息，下面是一个答案的样例：\n",
    "---\n",
    "您购买的移动设备允许您使用多指手势与设备交互。该设备最有可能使用什么类型的触摸屏技术？\n",
    "['电容式', '红外线', 'SAW', '电阻式']\n",
    "移动设备\n",
    "---\n",
    "\"\"\"\n",
    "\n",
    "def get_translation(problem, choices, topic):\n",
    "    prompt = f\"{problem}\\n{choices}\\n{topic}\"\n",
    "    messages = [\n",
    "        {'role': 'system', 'content': _hint},\n",
    "        {'role': 'user', 'content': prompt}\n",
    "    ]\n",
    "    response = openai.ChatCompletion.create(\n",
    "        model=\"gpt-3.5-turbo\", \n",
    "        messages=messages, \n",
    "        temperature=0)\n",
    "    answer = response['choices'][0]['message']['content']\n",
    "    return answer"
   ]
  },
  {
   "cell_type": "code",
   "execution_count": 7,
   "metadata": {},
   "outputs": [
    {
     "name": "stdout",
     "output_type": "stream",
     "text": [
      "4201\n"
     ]
    },
    {
     "name": "stderr",
     "output_type": "stream",
     "text": [
      "  0%|          | 15/4954 [00:36<3:47:53,  2.77s/it]"
     ]
    }
   ],
   "source": [
    "import json\n",
    "from tqdm import tqdm\n",
    "failed = []\n",
    "translated = []\n",
    "finished = []\n",
    "with open(\"/mnt/mfs/opsgpt/evaluation/translated/sample.json\", 'r') as f:\n",
    "    data = json.load(f)\n",
    "finished = set([d['id'] for d in data])\n",
    "print(len(finished))\n",
    "idx = 0\n",
    "for q in tqdm(sample_data):\n",
    "    if q['id'] in finished:\n",
    "        continue\n",
    "    try:\n",
    "        ans = get_translation(q['question'], q['choices'], q['topic'])\n",
    "        question, choices, topic = ans.split('\\n')\n",
    "        q['question'] = question\n",
    "        q['choices'] = eval(choices)\n",
    "        q['topic'] = topic\n",
    "        translated.append(q)\n",
    "        if idx % 100 == 0:\n",
    "            with open(\"/mnt/mfs/opsgpt/evaluation/translated/sample.json\", 'w') as f:\n",
    "                json.dump(translated, f)\n",
    "        idx += 1\n",
    "    except:\n",
    "        # print(q['id'], \"failed!\")\n",
    "        failed.append(q['id'])"
   ]
  },
  {
   "cell_type": "code",
   "execution_count": null,
   "metadata": {},
   "outputs": [],
   "source": []
  }
 ],
 "metadata": {
  "kernelspec": {
   "display_name": "opencompass",
   "language": "python",
   "name": "python3"
  },
  "language_info": {
   "codemirror_mode": {
    "name": "ipython",
    "version": 3
   },
   "file_extension": ".py",
   "mimetype": "text/x-python",
   "name": "python",
   "nbconvert_exporter": "python",
   "pygments_lexer": "ipython3",
   "version": "3.10.12"
  },
  "orig_nbformat": 4
 },
 "nbformat": 4,
 "nbformat_minor": 2
}
