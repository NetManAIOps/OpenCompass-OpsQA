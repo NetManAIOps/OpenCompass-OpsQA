{
 "cells": [
  {
   "cell_type": "code",
   "execution_count": 2,
   "id": "41e2ca63-0d8e-46c8-8c82-3a4fbcb92480",
   "metadata": {
    "execution": {
     "iopub.execute_input": "2023-08-10T08:18:35.708059Z",
     "iopub.status.busy": "2023-08-10T08:18:35.707151Z",
     "iopub.status.idle": "2023-08-10T08:18:35.718059Z",
     "shell.execute_reply": "2023-08-10T08:18:35.715517Z",
     "shell.execute_reply.started": "2023-08-10T08:18:35.707974Z"
    },
    "tags": []
   },
   "outputs": [],
   "source": [
    "import json, os, sys, re\n",
    "from os import path as osp\n",
    "import pandas as pd"
   ]
  },
  {
   "cell_type": "code",
   "execution_count": 4,
   "id": "5838c37e-8044-49c0-a178-3b36dc571b33",
   "metadata": {
    "execution": {
     "iopub.execute_input": "2023-08-08T08:04:56.197592Z",
     "iopub.status.busy": "2023-08-08T08:04:56.196782Z",
     "iopub.status.idle": "2023-08-08T08:04:56.211944Z",
     "shell.execute_reply": "2023-08-08T08:04:56.209933Z",
     "shell.execute_reply.started": "2023-08-08T08:04:56.197512Z"
    },
    "tags": []
   },
   "outputs": [
    {
     "name": "stdout",
     "output_type": "stream",
     "text": [
      "dict_keys(['passage', 'question', 'options', 'label', 'answer', 'other'])\n"
     ]
    }
   ],
   "source": [
    "jsonl_file = \"./data/AGIEval/data/v1/gaokao-mathcloze.jsonl\"\n",
    "with open(jsonl_file) as file:\n",
    "    for line in file:\n",
    "        data = json.loads(line)\n",
    "        if isinstance(data, dict):\n",
    "            fields = data.keys()\n",
    "            print(fields)\n",
    "        break"
   ]
  },
  {
   "cell_type": "code",
   "execution_count": 4,
   "id": "235f578f-2ee9-47a1-8459-30b0761fe0fe",
   "metadata": {
    "execution": {
     "iopub.execute_input": "2023-08-10T08:18:39.900908Z",
     "iopub.status.busy": "2023-08-10T08:18:39.899860Z",
     "iopub.status.idle": "2023-08-10T08:18:39.912896Z",
     "shell.execute_reply": "2023-08-10T08:18:39.910700Z",
     "shell.execute_reply.started": "2023-08-10T08:18:39.900823Z"
    },
    "tags": []
   },
   "outputs": [],
   "source": [
    "with open(\".cache/dataset_size.json\", 'r') as f:\n",
    "    data = json.load(f)"
   ]
  },
  {
   "cell_type": "code",
   "execution_count": 8,
   "id": "dc13df20-536d-426e-86bf-3949a6ba2409",
   "metadata": {
    "execution": {
     "iopub.execute_input": "2023-08-10T08:21:53.972562Z",
     "iopub.status.busy": "2023-08-10T08:21:53.971424Z",
     "iopub.status.idle": "2023-08-10T08:21:53.985681Z",
     "shell.execute_reply": "2023-08-10T08:21:53.983680Z",
     "shell.execute_reply.started": "2023-08-10T08:21:53.972473Z"
    },
    "tags": []
   },
   "outputs": [
    {
     "data": {
      "text/plain": [
       "101345"
      ]
     },
     "execution_count": 8,
     "metadata": {},
     "output_type": "execute_result"
    }
   ],
   "source": [
    "sum(data.values())"
   ]
  },
  {
   "cell_type": "code",
   "execution_count": 16,
   "id": "4800e2bf-96ca-49a1-8f4e-9fd4e0aca42b",
   "metadata": {
    "execution": {
     "iopub.execute_input": "2023-08-14T16:01:39.503707Z",
     "iopub.status.busy": "2023-08-14T16:01:39.502841Z",
     "iopub.status.idle": "2023-08-14T16:01:39.520767Z",
     "shell.execute_reply": "2023-08-14T16:01:39.518492Z",
     "shell.execute_reply.started": "2023-08-14T16:01:39.503626Z"
    },
    "tags": []
   },
   "outputs": [
    {
     "name": "stdout",
     "output_type": "stream",
     "text": [
      "'CompTIA A+ Complete Practice Tests, 3rd Edition':'9781119862642', \n",
      "'CompTIA A+ Complete Study Guide, 5th Edition':'9781119862918', \n",
      "'CompTIA A+ Practice Questions Exam Cram Core 1 (220-1101) and Core 2 (220-1102)':'9780137658237', \n",
      "'CompTIA Network+ Practice Tests, 2nd Edition':'9781119807308', \n",
      "'CompTIA Network+ Study Guide, 5th Edition':'9781119811633', \n",
      "'CompTIA Linux+ Practice Tests, 3rd Edition':'9781119879619', \n",
      "'CompTIA Linux+ Study Guide, 5th Edition':'9781119878940', \n",
      "'CompTIA Security+ Practice Tests':'9781119416920', \n",
      "'CompTIA Security+ Study Guide, 7th Edition':'9781119416876', \n",
      "'CompTIA CySA+ Practice Tests, 3rd Edition':'9781394182930', \n",
      "'CompTIA CySA+ Study Guide, 3rd Edition':'9781394182909', \n",
      "'CompTIA Project+ Practice Tests, 2nd Edition':'9781119892489', \n",
      "'CompTIA Project+ Study Guide, 3rd Edition':'9781119892458', \n",
      "'CompTIA IT Fundamentals (ITF+) Study Guide, 2nd Edition':'9781119513124', \n",
      "'CompTIA Server+ Study Guide, 2nd Edition':'9781119891437', \n",
      "'CompTIA Data+ Study Guide':'9781119845256', \n",
      "'CompTIA Cloud Essentials+ Study Guide, 2nd Edition':'9781119642220', \n",
      "'CompTIA Cloud+ Study Guide, 3rd Edition':'9781119810865', \n",
      "'CompTIA PenTest+ Study Guide, 2nd Edition':'9781119823810', \n",
      "'CASP+ CompTIA Advanced Security Practitioner Study Guide, 4th Edition':'9781119803164', \n",
      "'(ISC)2 CCSP Certified Cloud Security Professional Official Practice Tests, 3rd Edition':'9781119909408', \n",
      "'(ISC)2 CCSP Certified Cloud Security Professional Official Study Guide, 3rd Edition':'9781119909378', \n",
      "'(ISC)2 CISSP Certified Information Systems Security Professional Official Practice Tests, 3rd Edition':'9781119787631', \n",
      "'(ISC)2 CISSP Certified Information Systems Security Professional Official Study Guide, 9th Edition':'9781119786238', \n",
      "'(ISC)2 SSCP Systems Security Certified Practitioner Official Practice Tests, 2nd Edition':'9781119852070', \n",
      "'(ISC)2 SSCP Systems Security Certified Practitioner Official Study Guide, 3rd Edition':'9781119854982', \n",
      "'CCNA 200-301 Official Cert Guide Library':'9780136755562', \n",
      "'CCNA Wireless 200-355 Official Cert Guide':'9780134307183', \n",
      "'CCNA Cyber Ops SECOPS 210-255 Official Cert Guide':'9780134608938', \n",
      "'CCNA Cyber Ops SECFND #210-250 Official Cert Guide':'9780134609003', \n",
      "'CCNP and CCIE Data Center Core DCCOR 350-601 Official Cert Guide':'9780136555735', \n",
      "'CCNP and CCIE Enterprise Core ENCOR 350-401 Official Cert Guide, 2nd Edition':'9780138216993', \n",
      "'CCNP Collaboration Call Control and Mobility CLACCM 300-815 Official Cert Guide':'9780136575474', \n",
      "'CCNP Collaboration Cloud and Edge Solutions CLCEI 300-820 Official Cert Guide':'9780136733867', \n",
      "'CCNP Data Center Application Centric Infrastructure 300-620 DCACI Official Cert Guide':'9780136602804', \n",
      "'CCNP Enterprise Advanced Routing ENARSI 300-410 Official Cert Guide, 2nd Edition':'9780138217464', \n",
      "'CCNP Enterprise Design ENSLD 300-420 Official Cert Guide: Designing Cisco Enterprise Networks':'9780136575160', \n",
      "'CCNP Enterprise Wireless Design ENWLSD 300-425 and Implementation ENWLSI 300-430 Official Cert Guide: Designing & Implementing Cisco Enterprise Wireless Networks':'9780136600992', \n",
      "'CCNP Security Cisco Secure Firewall and Intrusion Prevention System Official Cert Guide':'9780136589716', \n",
      "'CCNP Security Identity Management SISE 300-715 Official Cert Guide':'9780136677710', \n",
      "'CCNP Security Virtual Private Networks SVPN 300-730 Official Cert Guide':'9780136634829', \n",
      "'Cisco Certified Design Expert (CCDE 400-007) Official Cert Guide':'9780137601066', \n",
      "'Cisco Certified DevNet Associate DEVASC 200-901 Official Cert Guide':'9780136677314', \n",
      "'Cisco Certified DevNet Professional DEVCOR 350-901 Official Cert Guide':'9780137370337', \n",
      "'Cisco CyberOps Associate CBROPS 200-201 Official Cert Guide':'9780136807964', \n",
      "'CCDA 200-310 Official Cert Guide, Fifth Edition':'9780134305653', \n",
      "'The KCNA Book':'9781835080399', \n",
      "'CWNA Certified Wireless Network Administrator Study Guide, 6th Edition':'9781119734505', \n",
      "'Docker Certified Associate (DCA): Exam Guide':'9781839211898', \n",
      "'CEH v12 Certified Ethical Hacker Study Guide with 750 Practice Test Questions':'9781394186921', \n"
     ]
    }
   ],
   "source": [
    "with open(\"/mnt/mfs/opsgpt/evaluation/ops-cert-eval/book_names.csv\", 'r') as f:\n",
    "    for line in f.readlines()[1:]:\n",
    "        book_title, bid = ','.join(line.split(',')[:-1]), line.split(',')[-1].replace('\\n', '')\n",
    "        print(f\"'{book_title}':'{bid}', \")"
   ]
  },
  {
   "cell_type": "code",
   "execution_count": 1,
   "id": "7d9da2e6",
   "metadata": {
    "execution": {
     "iopub.execute_input": "2023-08-14T16:58:03.052711Z",
     "iopub.status.busy": "2023-08-14T16:58:03.051573Z",
     "iopub.status.idle": "2023-08-14T16:58:03.460554Z",
     "shell.execute_reply": "2023-08-14T16:58:03.458764Z",
     "shell.execute_reply.started": "2023-08-14T16:58:03.052622Z"
    },
    "tags": []
   },
   "outputs": [],
   "source": [
    "import pandas as pd"
   ]
  },
  {
   "cell_type": "code",
   "execution_count": 2,
   "id": "8ecc7222-d2d7-4889-9b50-df2bd7db694c",
   "metadata": {
    "execution": {
     "iopub.execute_input": "2023-08-14T16:58:18.201756Z",
     "iopub.status.busy": "2023-08-14T16:58:18.201105Z",
     "iopub.status.idle": "2023-08-14T16:58:18.217900Z",
     "shell.execute_reply": "2023-08-14T16:58:18.216189Z",
     "shell.execute_reply.started": "2023-08-14T16:58:18.201711Z"
    },
    "tags": []
   },
   "outputs": [],
   "source": [
    "book_df = pd.read_csv('/mnt/mfs/opsgpt/evaluation/ops-cert-eval/books.csv')"
   ]
  },
  {
   "cell_type": "code",
   "execution_count": 6,
   "id": "bea79dcb-5f79-4591-a0d5-bce2bb20c0e5",
   "metadata": {
    "execution": {
     "iopub.execute_input": "2023-08-14T17:00:36.854255Z",
     "iopub.status.busy": "2023-08-14T17:00:36.853651Z",
     "iopub.status.idle": "2023-08-14T17:00:36.866457Z",
     "shell.execute_reply": "2023-08-14T17:00:36.865118Z",
     "shell.execute_reply.started": "2023-08-14T17:00:36.854217Z"
    },
    "tags": []
   },
   "outputs": [],
   "source": [
    "book_list = []\n",
    "for _idx, _row in book_df.iterrows():\n",
    "    _name = _row['name']\n",
    "    _id = _row['id']\n",
    "    _book_abbr = _row['abbr']\n",
    "    _filename = _row['problemset_filename']\n",
    "    book_list.append(\n",
    "        {\n",
    "            'name': _name,\n",
    "            'id': _id,\n",
    "            'abbr': _book_abbr,\n",
    "            'filename': _filename\n",
    "        }\n",
    "    )"
   ]
  },
  {
   "cell_type": "code",
   "execution_count": 7,
   "id": "aa962da5-520f-4c46-a4fc-d08be0af66e4",
   "metadata": {
    "execution": {
     "iopub.execute_input": "2023-08-14T17:00:41.257343Z",
     "iopub.status.busy": "2023-08-14T17:00:41.256541Z",
     "iopub.status.idle": "2023-08-14T17:00:41.293024Z",
     "shell.execute_reply": "2023-08-14T17:00:41.291084Z",
     "shell.execute_reply.started": "2023-08-14T17:00:41.257266Z"
    },
    "tags": []
   },
   "outputs": [
    {
     "data": {
      "text/plain": [
       "[{'name': 'CompTIA A+ Complete Practice Tests, 3rd Edition',\n",
       "  'id': 9781119862642,\n",
       "  'abbr': 'CTCPT-3E',\n",
       "  'filename': '9781119862642.json'},\n",
       " {'name': 'CompTIA A+ Complete Study Guide, 5th Edition',\n",
       "  'id': 9781119862918,\n",
       "  'abbr': 'CTCSG-5E',\n",
       "  'filename': '9781119862918.json'},\n",
       " {'name': 'CompTIA A+ Practice Questions Exam Cram Core 1 (220-1101) and Core 2 (220-1102)',\n",
       "  'id': 9780137658237,\n",
       "  'abbr': 'CTCPQEC1&2',\n",
       "  'filename': '9780137658237.json'},\n",
       " {'name': 'CompTIA Network+ Practice Tests, 2nd Edition',\n",
       "  'id': 9781119807308,\n",
       "  'abbr': 'CTNPT-2E',\n",
       "  'filename': '9781119807308.json'},\n",
       " {'name': 'CompTIA Network+ Study Guide, 5th Edition',\n",
       "  'id': 9781119811633,\n",
       "  'abbr': 'CTNSG-5E',\n",
       "  'filename': '9781119811633.json'},\n",
       " {'name': 'CompTIA Linux+ Practice Tests, 3rd Edition',\n",
       "  'id': 9781119879619,\n",
       "  'abbr': 'CTLPT-3E',\n",
       "  'filename': '9781119879619.json'},\n",
       " {'name': 'CompTIA Linux+ Study Guide, 5th Edition',\n",
       "  'id': 9781119878940,\n",
       "  'abbr': 'CTLSG-5E',\n",
       "  'filename': '9781119878940.json'},\n",
       " {'name': 'CompTIA Security+ Practice Tests',\n",
       "  'id': 9781119416920,\n",
       "  'abbr': 'CTSPPT',\n",
       "  'filename': '9781119416920.json'},\n",
       " {'name': 'CompTIA Security+ Study Guide, 7th Edition',\n",
       "  'id': 9781119416876,\n",
       "  'abbr': 'CTSSG-7E',\n",
       "  'filename': '9781119416876.json'},\n",
       " {'name': 'CompTIA CySA+ Practice Tests, 3rd Edition',\n",
       "  'id': 9781394182930,\n",
       "  'abbr': 'CTCPT-3E',\n",
       "  'filename': '9781394182930.json'},\n",
       " {'name': 'CompTIA CySA+ Study Guide, 3rd Edition',\n",
       "  'id': 9781394182909,\n",
       "  'abbr': 'CTCSG-3E',\n",
       "  'filename': '9781394182909.json'},\n",
       " {'name': 'CompTIA Project+ Practice Tests, 2nd Edition',\n",
       "  'id': 9781119892489,\n",
       "  'abbr': 'CTPPT-2E',\n",
       "  'filename': '9781119892489.json'},\n",
       " {'name': 'CompTIA Project+ Study Guide, 3rd Edition',\n",
       "  'id': 9781119892458,\n",
       "  'abbr': 'CTPSG-3E',\n",
       "  'filename': '9781119892458.json'},\n",
       " {'name': 'CompTIA IT Fundamentals (ITF+) Study Guide, 2nd Edition',\n",
       "  'id': 9781119513124,\n",
       "  'abbr': 'CTFITF+SG-2E',\n",
       "  'filename': '9781119513124.json'},\n",
       " {'name': 'CompTIA Server+ Study Guide, 2nd Edition',\n",
       "  'id': 9781119891437,\n",
       "  'abbr': 'CTSSG-2E',\n",
       "  'filename': '9781119891437.json'},\n",
       " {'name': 'CompTIA Data+ Study Guide',\n",
       "  'id': 9781119845256,\n",
       "  'abbr': 'CTDSG',\n",
       "  'filename': '9781119845256.json'},\n",
       " {'name': 'CompTIA Cloud Essentials+ Study Guide, 2nd Edition',\n",
       "  'id': 9781119642220,\n",
       "  'abbr': 'CTCE+SG-2E',\n",
       "  'filename': '9781119642220.json'},\n",
       " {'name': 'CompTIA Cloud+ Study Guide, 3rd Edition',\n",
       "  'id': 9781119810865,\n",
       "  'abbr': 'CTCSG-3E',\n",
       "  'filename': '9781119810865.json'},\n",
       " {'name': 'CompTIA PenTest+ Study Guide, 2nd Edition',\n",
       "  'id': 9781119823810,\n",
       "  'abbr': 'CTPSG-2E',\n",
       "  'filename': '9781119823810.json'},\n",
       " {'name': 'CASP+ CompTIA Advanced Security Practitioner Study Guide, 4th Edition',\n",
       "  'id': 9781119803164,\n",
       "  'abbr': 'CACASPG-4E',\n",
       "  'filename': '9781119803164.json'},\n",
       " {'name': '(ISC)2 CCSP Certified Cloud Security Professional Official Practice Tests, 3rd Edition',\n",
       "  'id': 9781119909408,\n",
       "  'abbr': 'IC2CCSPOT-3E',\n",
       "  'filename': '9781119909408.json'},\n",
       " {'name': '(ISC)2 CCSP Certified Cloud Security Professional Official Study Guide, 3rd Edition',\n",
       "  'id': 9781119909378,\n",
       "  'abbr': 'IC2CCSPSG-3E',\n",
       "  'filename': '9781119909378.json'},\n",
       " {'name': '(ISC)2 CISSP Certified Information Systems Security Professional Official Practice Tests, 3rd Edition',\n",
       "  'id': 9781119787631,\n",
       "  'abbr': 'IC2CISSPOT-3E',\n",
       "  'filename': '9781119787631.json'},\n",
       " {'name': '(ISC)2 CISSP Certified Information Systems Security Professional Official Study Guide, 9th Edition',\n",
       "  'id': 9781119786238,\n",
       "  'abbr': 'IC2CISSPSG-9E',\n",
       "  'filename': '9781119786238.json'},\n",
       " {'name': '(ISC)2 SSCP Systems Security Certified Practitioner Official Practice Tests, 2nd Edition',\n",
       "  'id': 9781119852070,\n",
       "  'abbr': 'IC2SSCPOT-2E',\n",
       "  'filename': '9781119852070.json'},\n",
       " {'name': '(ISC)2 SSCP Systems Security Certified Practitioner Official Study Guide, 3rd Edition',\n",
       "  'id': 9781119854982,\n",
       "  'abbr': 'IC2SSCPSG-3E',\n",
       "  'filename': '9781119854982.json'},\n",
       " {'name': 'CCNA 200-301 Official Cert Guide Library',\n",
       "  'id': 9780136755562,\n",
       "  'abbr': 'CCNAOCGL',\n",
       "  'filename': '9780136755562.json'},\n",
       " {'name': 'CCNA Wireless 200-355 Official Cert Guide',\n",
       "  'id': 9780134307183,\n",
       "  'abbr': 'CCNAWOCG',\n",
       "  'filename': '9780134307183.json'},\n",
       " {'name': 'CCNA Cyber Ops SECOPS 210-255 Official Cert Guide',\n",
       "  'id': 9780134608938,\n",
       "  'abbr': 'CCNASOOCG',\n",
       "  'filename': '9780134608938.json'},\n",
       " {'name': 'CCNA Cyber Ops SECFND #210-250 Official Cert Guide',\n",
       "  'id': 9780134609003,\n",
       "  'abbr': 'CCNASEOCG',\n",
       "  'filename': '9780134609003.json'},\n",
       " {'name': 'CCNP and CCIE Data Center Core DCCOR 350-601 Official Cert Guide',\n",
       "  'id': 9780136555735,\n",
       "  'abbr': 'CCNPCCDCCD',\n",
       "  'filename': '9780136555735.json'},\n",
       " {'name': 'CCNP and CCIE Enterprise Core ENCOR 350-401 Official Cert Guide, 2nd Edition',\n",
       "  'id': 9780138216993,\n",
       "  'abbr': 'CCNPECECORE',\n",
       "  'filename': '9780138216993.json'},\n",
       " {'name': 'CCNP Collaboration Call Control and Mobility CLACCM 300-815 Official Cert Guide',\n",
       "  'id': 9780136575474,\n",
       "  'abbr': 'CCNPCCCACCM',\n",
       "  'filename': '9780136575474.json'},\n",
       " {'name': 'CCNP Collaboration Cloud and Edge Solutions CLCEI 300-820 Official Cert Guide',\n",
       "  'id': 9780136733867,\n",
       "  'abbr': 'CCNPCCCES',\n",
       "  'filename': '9780136733867.json'},\n",
       " {'name': 'CCNP Data Center Application Centric Infrastructure 300-620 DCACI Official Cert Guide',\n",
       "  'id': 9780136602804,\n",
       "  'abbr': 'CCNPCCACI',\n",
       "  'filename': '9780136602804.json'},\n",
       " {'name': 'CCNP Enterprise Advanced Routing ENARSI 300-410 Official Cert Guide, 2nd Edition',\n",
       "  'id': 9780138217464,\n",
       "  'abbr': 'CCNPEAR',\n",
       "  'filename': '9780138217464.json'},\n",
       " {'name': 'CCNP Enterprise Design ENSLD 300-420 Official Cert Guide: Designing Cisco Enterprise Networks',\n",
       "  'id': 9780136575160,\n",
       "  'abbr': 'CCNPEDES',\n",
       "  'filename': '9780136575160.json'},\n",
       " {'name': 'CCNP Enterprise Wireless Design ENWLSD 300-425 and Implementation ENWLSI 300-430 Official Cert Guide: Designing & Implementing Cisco Enterprise Wireless Networks',\n",
       "  'id': 9780136600992,\n",
       "  'abbr': 'CCNPEWD',\n",
       "  'filename': '9780136600992.json'},\n",
       " {'name': 'CCNP Security Cisco Secure Firewall and Intrusion Prevention System Official Cert Guide',\n",
       "  'id': 9780136589716,\n",
       "  'abbr': 'CCNPSF&IPSOCG',\n",
       "  'filename': '9780136589716.json'},\n",
       " {'name': 'CCNP Security Identity Management SISE 300-715 Official Cert Guide',\n",
       "  'id': 9780136677710,\n",
       "  'abbr': 'CCNPSIM',\n",
       "  'filename': '9780136677710.json'},\n",
       " {'name': 'CCNP Security Virtual Private Networks SVPN 300-730 Official Cert Guide',\n",
       "  'id': 9780136634829,\n",
       "  'abbr': 'CCNPSVPN',\n",
       "  'filename': '9780136634829.json'},\n",
       " {'name': 'Cisco Certified Design Expert (CCDE 400-007) Official Cert Guide',\n",
       "  'id': 9780137601066,\n",
       "  'abbr': 'CCDEOCG',\n",
       "  'filename': '9780137601066.json'},\n",
       " {'name': 'Cisco Certified DevNet Associate DEVASC 200-901 Official Cert Guide',\n",
       "  'id': 9780136677314,\n",
       "  'abbr': 'CCNDADEVASC',\n",
       "  'filename': '9780136677314.json'},\n",
       " {'name': 'Cisco Certified DevNet Professional DEVCOR 350-901 Official Cert Guide',\n",
       "  'id': 9780137370337,\n",
       "  'abbr': 'CCNDPDEVCOR',\n",
       "  'filename': '9780137370337.json'},\n",
       " {'name': 'Cisco CyberOps Associate CBROPS 200-201 Official Cert Guide',\n",
       "  'id': 9780136807964,\n",
       "  'abbr': 'CCAACBROPS',\n",
       "  'filename': '9780136807964.json'},\n",
       " {'name': 'CCDA 200-310 Official Cert Guide, Fifth Edition',\n",
       "  'id': 9780134305653,\n",
       "  'abbr': 'CCDAP',\n",
       "  'filename': '9780134305653.json'},\n",
       " {'name': 'The KCNA Book',\n",
       "  'id': 9781835080399,\n",
       "  'abbr': 'TKCB',\n",
       "  'filename': '9781835080399.json'},\n",
       " {'name': 'CWNA Certified Wireless Network Administrator Study Guide, 6th Edition',\n",
       "  'id': 9781119734505,\n",
       "  'abbr': 'CWNASG-6E',\n",
       "  'filename': '9781119734505.json'},\n",
       " {'name': 'Docker Certified Associate (DCA): Exam Guide',\n",
       "  'id': 9781839211898,\n",
       "  'abbr': 'DCAEG',\n",
       "  'filename': '9781839211898.json'},\n",
       " {'name': 'CEH v12 Certified Ethical Hacker Study Guide with 750 Practice Test Questions',\n",
       "  'id': 9781394186921,\n",
       "  'abbr': 'CEHV12CEHSG',\n",
       "  'filename': '9781394186921.json'}]"
      ]
     },
     "execution_count": 7,
     "metadata": {},
     "output_type": "execute_result"
    }
   ],
   "source": [
    "book_list"
   ]
  },
  {
   "cell_type": "code",
   "execution_count": 13,
   "id": "a5ae19b8-eb5d-44af-bcf6-b18d5f430da3",
   "metadata": {
    "execution": {
     "iopub.execute_input": "2023-08-15T09:42:08.670165Z",
     "iopub.status.busy": "2023-08-15T09:42:08.669324Z",
     "iopub.status.idle": "2023-08-15T09:42:10.585656Z",
     "shell.execute_reply": "2023-08-15T09:42:10.583646Z",
     "shell.execute_reply.started": "2023-08-15T09:42:08.670085Z"
    },
    "tags": []
   },
   "outputs": [
    {
     "name": "stdout",
     "output_type": "stream",
     "text": [
      "191\n",
      "1499\n",
      "834\n",
      "222\n",
      "395\n",
      "233\n",
      "1236\n",
      "380\n",
      "1191\n",
      "836\n",
      "249\n",
      "479\n",
      "200\n",
      "89\n",
      "260\n",
      "638\n",
      "998\n",
      "290\n",
      "427\n",
      "219\n",
      "288\n",
      "985\n",
      "240\n",
      "139\n",
      "135\n",
      "440\n",
      "325\n",
      "164\n",
      "230\n",
      "160\n",
      "143\n",
      "197\n",
      "158\n",
      "148\n",
      "134\n",
      "133\n",
      "100\n",
      "927\n",
      "227\n",
      "417\n",
      "150\n",
      "237\n",
      "199\n",
      "112\n",
      "115\n",
      "140\n",
      "158\n",
      "65\n",
      "200\n",
      "218\n"
     ]
    }
   ],
   "source": [
    "import os, json\n",
    "splitted_folder = \"/mnt/mfs/opsgpt/evaluation/ops-cert-eval/v2/splitted\"\n",
    "for filename in os.listdir(splitted_folder):\n",
    "    with open(os.path.join(splitted_folder, filename)) as f:\n",
    "        data = json.load(f)\n",
    "        print(len(data))"
   ]
  },
  {
   "cell_type": "code",
   "execution_count": 1,
   "id": "4c9373bf-3ab2-4780-bdd4-752513e5ec3c",
   "metadata": {},
   "outputs": [],
   "source": [
    "import json\n",
    "with open(\"/mnt/mfs/opsgpt/evaluation/ops-cert-eval/v3/all.json\", 'r') as f:\n",
    "    data = json.load(f)\n",
    "single_ans = []\n",
    "multiple_ans = []\n",
    "for q in data:\n",
    "    if q['type'] == 0:\n",
    "        single_ans.append(q)\n",
    "    else:\n",
    "        multiple_ans.append(q)\n",
    "single_dev = single_ans[:10]\n",
    "single_test = single_ans[10:]\n",
    "multiple_dev = multiple_ans[:10]\n",
    "multiple_test = multiple_ans[10:]\n",
    "with open(\"/mnt/mfs/opsgpt/evaluation/ops-cert-eval/v3/single_dev.json\", 'w') as f:\n",
    "    json.dump(single_dev, f, indent=4)\n",
    "with open(\"/mnt/mfs/opsgpt/evaluation/ops-cert-eval/v3/single_test.json\", 'w') as f:\n",
    "    json.dump(single_test, f, indent=4)\n",
    "with open(\"/mnt/mfs/opsgpt/evaluation/ops-cert-eval/v3/multiple_dev.json\", 'w') as f:\n",
    "    json.dump(multiple_dev, f, indent=4)\n",
    "with open(\"/mnt/mfs/opsgpt/evaluation/ops-cert-eval/v3/multiple_test.json\", 'w') as f:\n",
    "    json.dump(multiple_test, f, indent=4)"
   ]
  },
  {
   "cell_type": "code",
   "execution_count": null,
   "id": "7f420a8f",
   "metadata": {},
   "outputs": [],
   "source": []
  }
 ],
 "metadata": {
  "kernelspec": {
   "display_name": "opencompass",
   "language": "python",
   "name": "python3"
  },
  "language_info": {
   "codemirror_mode": {
    "name": "ipython",
    "version": 3
   },
   "file_extension": ".py",
   "mimetype": "text/x-python",
   "name": "python",
   "nbconvert_exporter": "python",
   "pygments_lexer": "ipython3",
   "version": "3.10.12"
  },
  "vscode": {
   "interpreter": {
    "hash": "7eafef07b2ef72c2be5a6d1eac1fc85364d7b503275a97e06b0d429597a5e7eb"
   }
  }
 },
 "nbformat": 4,
 "nbformat_minor": 5
}
